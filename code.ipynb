{
 "cells": [
  {
   "cell_type": "markdown",
   "metadata": {},
   "source": [
    "### 데이터 분할을 위한 폴더 생성"
   ]
  },
  {
   "cell_type": "code",
   "execution_count": 45,
   "metadata": {},
   "outputs": [],
   "source": [
    "import os\n",
    "import shutil\n",
    " \n",
    "original_dataset_dir = '../dataset'   \n",
    "classes_list = os.listdir(original_dataset_dir) # 해당 경로 하위에 있는 모든 폴더의 목록을 가져오는 메서드\n",
    " \n",
    "base_dir = '../splitted' \n",
    "os.mkdir(base_dir)\n",
    " \n",
    "train_dir = os.path.join(base_dir, 'train') \n",
    "os.mkdir(train_dir)\n",
    "validation_dir = os.path.join(base_dir, 'val')\n",
    "os.mkdir(validation_dir)\n",
    "test_dir = os.path.join(base_dir, 'test')\n",
    "os.mkdir(test_dir)\n",
    "\n",
    "for cls in classes_list:     \n",
    "    os.mkdir(os.path.join(train_dir, cls))\n",
    "    os.mkdir(os.path.join(validation_dir, cls))\n",
    "    os.mkdir(os.path.join(test_dir, cls))"
   ]
  },
  {
   "cell_type": "markdown",
   "metadata": {},
   "source": [
    "### 데이터 분할과 클래스별 데이터 수 확인"
   ]
  },
  {
   "cell_type": "code",
   "execution_count": null,
   "metadata": {},
   "outputs": [],
   "source": [
    "import math\n",
    " \n",
    "for cls in classes_list:\n",
    "    path = os.path.join(original_dataset_dir, cls)\n",
    "    fnames = os.listdir(path) # path 위치에 존재하는 모든 이미지 파일의 목록을 변수 fnames에 저장\n",
    " \n",
    "    train_size = math.floor(len(fnames) * 0.6)\n",
    "    validation_size = math.floor(len(fnames) * 0.2)\n",
    "    test_size = math.floor(len(fnames) * 0.2)\n",
    "    \n",
    "    train_fnames = fnames[:train_size]\n",
    "    print(\"Train size(\",cls,\"): \", len(train_fnames))\n",
    "    for fname in train_fnames:\n",
    "        src = os.path.join(path, fname) # 복사할 원본 파일의 경로 지정\n",
    "        dst = os.path.join(os.path.join(train_dir, cls), fname) # 복사한 후 저장할 파일의 경로 지정\n",
    "        shutil.copyfile(src, dst) # src의 경로에 해당하는 파일을 dst의 경로에 저장\n",
    "        \n",
    "    validation_fnames = fnames[train_size:(validation_size + train_size)]\n",
    "    print(\"Validation size(\",cls,\"): \", len(validation_fnames))\n",
    "    for fname in validation_fnames:\n",
    "        src = os.path.join(path, fname)\n",
    "        dst = os.path.join(os.path.join(validation_dir, cls), fname)\n",
    "        shutil.copyfile(src, dst)\n",
    "        \n",
    "    test_fnames = fnames[(train_size+validation_size):(validation_size + train_size +test_size)]\n",
    "\n",
    "    print(\"Test size(\",cls,\"): \", len(test_fnames))\n",
    "    for fname in test_fnames:\n",
    "        src = os.path.join(path, fname)\n",
    "        dst = os.path.join(os.path.join(test_dir, cls), fname)\n",
    "        shutil.copyfile(src, dst)"
   ]
  },
  {
   "cell_type": "markdown",
   "metadata": {},
   "source": [
    "### 베이스라인 모델 학습을 위한 준비"
   ]
  },
  {
   "cell_type": "code",
   "execution_count": 47,
   "metadata": {},
   "outputs": [],
   "source": [
    "import torch\n",
    "import os\n",
    "\n",
    "# MPS 지원 여부 확인\n",
    "USE_MPS = torch.backends.mps.is_available()  # MPS 지원 여부\n",
    "USE_CUDA = torch.cuda.is_available()        # CUDA 지원 여부\n",
    "\n",
    "# 디바이스 선택 (MPS > CUDA > CPU 순으로 우선 선택)\n",
    "if USE_MPS:\n",
    "    DEVICE = torch.device(\"mps\")\n",
    "elif USE_CUDA:\n",
    "    DEVICE = torch.device(\"cuda\")\n",
    "else:\n",
    "    DEVICE = torch.device(\"cpu\")\n",
    "\n",
    "BATCH_SIZE = 256\n",
    "EPOCH = 30\n",
    "import torchvision.transforms as transforms\n",
    "from torchvision.datasets import ImageFolder \n",
    "\n",
    "# transforms.Compose : 이미지 데이터의 전처리, Augmentation 등의 과정에서 사용되는 메서드\n",
    "# transforms.Resize : 이미지 크기를 조정\n",
    "# transforms.ToTensor : 이미지를 Tensor 형태로 변환하고, 모든 값을 0에서 1 사이로 정규화\n",
    "# ImageFolder : 데이터셋을 불러오는 메서드. 하나의 클래스가 하나의 폴더에 대응되는 구조의 데이터셋을 불러올 때 사용 (transform = 전처리 또는 Augmentation 방법 지정)\n",
    "transform_base = transforms.Compose([transforms.Resize((64,64)), transforms.ToTensor()]) \n",
    "train_dataset = ImageFolder(root='../splitted/train', transform=transform_base) \n",
    "val_dataset = ImageFolder(root='../splitted/val', transform=transform_base)\n",
    "\n",
    "from torch.utils.data import DataLoader\n",
    "\n",
    "# DataLoader : 불러온 이미지 데이터를 주어진 조건에 따라 미니 배치 단위로 분리하는 역할\n",
    "# shuffle = True : 데이터의 순서가 섞여 모델이 학습할 때 Label 정보의 순서를 기억하는 것을 방지할 수 있음\n",
    "train_loader = torch.utils.data.DataLoader(train_dataset, batch_size=BATCH_SIZE, shuffle=True, num_workers=4)\n",
    "val_loader = torch.utils.data.DataLoader(val_dataset, batch_size=BATCH_SIZE, shuffle=True, num_workers=4)"
   ]
  },
  {
   "cell_type": "markdown",
   "metadata": {},
   "source": [
    "### 베이스라인 모델 설계"
   ]
  },
  {
   "cell_type": "code",
   "execution_count": 48,
   "metadata": {},
   "outputs": [],
   "source": [
    "import torch.nn as nn\n",
    "import torch.nn.functional as F\n",
    "import torch.optim as optim\n",
    " \n",
    "class Net(nn.Module): \n",
    "  \n",
    "    def __init__(self):  # 사용할 모든 Layer를 정의\n",
    "    \n",
    "        super(Net, self).__init__() # nn.Module에 있는 메서드를 상속받아 사용\n",
    "\n",
    "        self.conv1 = nn.Conv2d(3, 32, 3, padding=1) # (입력 채널 수, 출력 채널 수, 커널 크기)\n",
    "        self.pool = nn.MaxPool2d(2,2)   # (커널 크기, Stride)\n",
    "        self.conv2 = nn.Conv2d(32, 64, 3, padding=1)  \n",
    "        self.conv3 = nn.Conv2d(64, 64, 3, padding=1)  \n",
    "\n",
    "        self.fc1 = nn.Linear(4096, 512) # Flatten 이후 사용할 Fully Connected Layer 정의\n",
    "        self.fc2 = nn.Linear(512, 33) \n",
    "    \n",
    "    def forward(self, x):  #모델이 학습 데이터를 입력받아 Forward Propagation을 실행시켜 Output을 계산하는 과정\n",
    "    \n",
    "        x = self.conv1(x) # conv1 layer를 통해 Feature Map 생성\n",
    "        x = F.relu(x)  # 생성된 Feature Map에 활성 함수 적용\n",
    "        x = self.pool(x) # MaxPooling\n",
    "        x = F.dropout(x, p=0.25, training=self.training)  # 25% 노드를 Dropout\n",
    "\n",
    "        x = self.conv2(x)\n",
    "        x = F.relu(x) \n",
    "        x = self.pool(x) \n",
    "        x = F.dropout(x, p=0.25, training=self.training)\n",
    "\n",
    "        x = self.conv3(x) \n",
    "        x = F.relu(x) \n",
    "        x = self.pool(x) \n",
    "        x = F.dropout(x, p=0.25, training=self.training)\n",
    "\n",
    "        x = x.view(-1, 4096)  # 생성된 Feature Map을 1차원으로 Flatten\n",
    "        x = self.fc1(x) \n",
    "        x = F.relu(x) \n",
    "        x = F.dropout(x, p=0.5, training=self.training)\n",
    "        x = self.fc2(x) \n",
    "\n",
    "        return F.log_softmax(x, dim=1)  # softmax() 함수를 적용하여 데이터가 각 클래스에 속할 확를을 Output값으로 출력\n",
    "\n",
    "model_base = Net().to(DEVICE)  # 정의한 CNN 모델 Net()의 새로운 객체 생성\n",
    "optimizer = optim.Adam(model_base.parameters(), lr=0.001) "
   ]
  },
  {
   "cell_type": "markdown",
   "metadata": {},
   "source": [
    "### 모델 학습을 위한 함수"
   ]
  },
  {
   "cell_type": "code",
   "execution_count": 49,
   "metadata": {},
   "outputs": [],
   "source": [
    "def train(model, train_loader, optimizer):\n",
    "    model.train()  # 입력받는 모델을 학습 모드로 설정\n",
    "    for batch_idx, (data, target) in enumerate(train_loader): \n",
    "        data, target = data.to(DEVICE), target.to(DEVICE) \n",
    "        optimizer.zero_grad() # 이전 배치의 gradient 초기화\n",
    "        output = model(data)  \n",
    "        loss = F.cross_entropy(output, target) \n",
    "        loss.backward() # loss값을 바탕으로 back propagation을 통해 계산한 gradient값을 각 parameter에 할당\n",
    "        optimizer.step()  # 각 parameter에 할당된 gradient 값을 이용해 모델의 parameter를 업데이트"
   ]
  },
  {
   "cell_type": "markdown",
   "metadata": {},
   "source": [
    "### 모델 평가를 위한 함수"
   ]
  },
  {
   "cell_type": "code",
   "execution_count": 50,
   "metadata": {},
   "outputs": [],
   "source": [
    "def evaluate(model, test_loader):\n",
    "    model.eval()  \n",
    "    test_loss = 0 \n",
    "    correct = 0   \n",
    "    \n",
    "    with torch.no_grad(): # 모델 평가 단계에서는 parameter를 업데이트하면 않아야 하므로 업데이트 중단\n",
    "        for data, target in test_loader:  \n",
    "            data, target = data.to(DEVICE), target.to(DEVICE)  \n",
    "            output = model(data) \n",
    "            \n",
    "            test_loss += F.cross_entropy(output,target, reduction='sum').item() \n",
    " \n",
    "            \n",
    "            pred = output.max(1, keepdim=True)[1] # 가장 높은 값을 가진 인덱스를 예측값으로 저장\n",
    "            # target.view_as(pred) : target Tensor 구조를 pred Tensor와 같은 모양으로 정렬\n",
    "            # eq : pred와 target.view_as(pred)의 값이 일치하면 1, 그렇지 않으면 0\n",
    "            correct += pred.eq(target.view_as(pred)).sum().item() \n",
    "   \n",
    "    test_loss /= len(test_loader.dataset) \n",
    "    test_accuracy = 100. * correct / len(test_loader.dataset) \n",
    "    return test_loss, test_accuracy  "
   ]
  },
  {
   "cell_type": "markdown",
   "metadata": {},
   "source": [
    "### 모델 학습 실행하기"
   ]
  },
  {
   "cell_type": "code",
   "execution_count": 51,
   "metadata": {},
   "outputs": [
    {
     "name": "stdout",
     "output_type": "stream",
     "text": [
      "-------------- epoch 1 ----------------\n",
      "train Loss: 1.9365, Accuracy: 45.35%\n",
      "val Loss: 1.9323, Accuracy: 45.49%\n",
      "Completed in 1m 21s\n",
      "-------------- epoch 2 ----------------\n",
      "train Loss: 1.1608, Accuracy: 65.97%\n",
      "val Loss: 1.1750, Accuracy: 66.30%\n",
      "Completed in 1m 20s\n",
      "-------------- epoch 3 ----------------\n",
      "train Loss: 0.8333, Accuracy: 74.92%\n",
      "val Loss: 0.8637, Accuracy: 74.23%\n",
      "Completed in 1m 21s\n",
      "-------------- epoch 4 ----------------\n",
      "train Loss: 0.7043, Accuracy: 77.83%\n",
      "val Loss: 0.7528, Accuracy: 76.69%\n",
      "Completed in 1m 20s\n",
      "-------------- epoch 5 ----------------\n",
      "train Loss: 0.5657, Accuracy: 82.52%\n",
      "val Loss: 0.6229, Accuracy: 80.62%\n",
      "Completed in 1m 21s\n",
      "-------------- epoch 6 ----------------\n",
      "train Loss: 0.4307, Accuracy: 86.74%\n",
      "val Loss: 0.4955, Accuracy: 84.72%\n",
      "Completed in 1m 20s\n",
      "-------------- epoch 7 ----------------\n",
      "train Loss: 0.4491, Accuracy: 85.76%\n",
      "val Loss: 0.5228, Accuracy: 83.78%\n",
      "Completed in 1m 20s\n",
      "-------------- epoch 8 ----------------\n",
      "train Loss: 0.3530, Accuracy: 89.25%\n",
      "val Loss: 0.4348, Accuracy: 86.54%\n",
      "Completed in 1m 20s\n",
      "-------------- epoch 9 ----------------\n",
      "train Loss: 0.3194, Accuracy: 90.54%\n",
      "val Loss: 0.4023, Accuracy: 87.87%\n",
      "Completed in 1m 20s\n",
      "-------------- epoch 10 ----------------\n",
      "train Loss: 0.2704, Accuracy: 91.56%\n",
      "val Loss: 0.3705, Accuracy: 88.23%\n",
      "Completed in 1m 20s\n",
      "-------------- epoch 11 ----------------\n",
      "train Loss: 0.2513, Accuracy: 92.49%\n",
      "val Loss: 0.3499, Accuracy: 89.01%\n",
      "Completed in 1m 20s\n",
      "-------------- epoch 12 ----------------\n",
      "train Loss: 0.2273, Accuracy: 93.61%\n",
      "val Loss: 0.3348, Accuracy: 90.10%\n",
      "Completed in 1m 21s\n",
      "-------------- epoch 13 ----------------\n",
      "train Loss: 0.1915, Accuracy: 94.26%\n",
      "val Loss: 0.3054, Accuracy: 90.56%\n",
      "Completed in 1m 20s\n",
      "-------------- epoch 14 ----------------\n",
      "train Loss: 0.2080, Accuracy: 93.20%\n",
      "val Loss: 0.3301, Accuracy: 89.51%\n",
      "Completed in 1m 22s\n",
      "-------------- epoch 15 ----------------\n",
      "train Loss: 0.1693, Accuracy: 95.11%\n",
      "val Loss: 0.2900, Accuracy: 91.33%\n",
      "Completed in 1m 20s\n",
      "-------------- epoch 16 ----------------\n",
      "train Loss: 0.1465, Accuracy: 95.89%\n",
      "val Loss: 0.2744, Accuracy: 91.66%\n",
      "Completed in 1m 20s\n",
      "-------------- epoch 17 ----------------\n",
      "train Loss: 0.1541, Accuracy: 95.19%\n",
      "val Loss: 0.2927, Accuracy: 90.62%\n",
      "Completed in 1m 23s\n",
      "-------------- epoch 18 ----------------\n",
      "train Loss: 0.1392, Accuracy: 95.64%\n",
      "val Loss: 0.2775, Accuracy: 91.59%\n",
      "Completed in 1m 21s\n",
      "-------------- epoch 19 ----------------\n",
      "train Loss: 0.1248, Accuracy: 96.55%\n",
      "val Loss: 0.2674, Accuracy: 91.94%\n",
      "Completed in 1m 20s\n",
      "-------------- epoch 20 ----------------\n",
      "train Loss: 0.1012, Accuracy: 97.30%\n",
      "val Loss: 0.2424, Accuracy: 92.90%\n",
      "Completed in 1m 21s\n",
      "-------------- epoch 21 ----------------\n",
      "train Loss: 0.1193, Accuracy: 96.47%\n",
      "val Loss: 0.2604, Accuracy: 92.01%\n",
      "Completed in 1m 20s\n",
      "-------------- epoch 22 ----------------\n",
      "train Loss: 0.0976, Accuracy: 97.14%\n",
      "val Loss: 0.2472, Accuracy: 92.55%\n",
      "Completed in 1m 21s\n",
      "-------------- epoch 23 ----------------\n",
      "train Loss: 0.0953, Accuracy: 97.61%\n",
      "val Loss: 0.2460, Accuracy: 92.70%\n",
      "Completed in 1m 20s\n",
      "-------------- epoch 24 ----------------\n",
      "train Loss: 0.0997, Accuracy: 97.18%\n",
      "val Loss: 0.2619, Accuracy: 91.95%\n",
      "Completed in 1m 20s\n",
      "-------------- epoch 25 ----------------\n",
      "train Loss: 0.0876, Accuracy: 97.58%\n",
      "val Loss: 0.2627, Accuracy: 92.70%\n",
      "Completed in 1m 20s\n",
      "-------------- epoch 26 ----------------\n",
      "train Loss: 0.0681, Accuracy: 98.30%\n",
      "val Loss: 0.2273, Accuracy: 93.40%\n",
      "Completed in 1m 20s\n",
      "-------------- epoch 27 ----------------\n",
      "train Loss: 0.0717, Accuracy: 97.88%\n",
      "val Loss: 0.2313, Accuracy: 93.38%\n",
      "Completed in 1m 20s\n",
      "-------------- epoch 28 ----------------\n",
      "train Loss: 0.0632, Accuracy: 98.32%\n",
      "val Loss: 0.2312, Accuracy: 93.08%\n",
      "Completed in 1m 20s\n",
      "-------------- epoch 29 ----------------\n",
      "train Loss: 0.0611, Accuracy: 98.67%\n",
      "val Loss: 0.2236, Accuracy: 93.57%\n",
      "Completed in 1m 20s\n",
      "-------------- epoch 30 ----------------\n",
      "train Loss: 0.0588, Accuracy: 98.58%\n",
      "val Loss: 0.2212, Accuracy: 93.73%\n",
      "Completed in 1m 20s\n"
     ]
    }
   ],
   "source": [
    "import time\n",
    "import copy\n",
    " \n",
    "def train_baseline(model ,train_loader, val_loader, optimizer, num_epochs = 30):\n",
    "    best_acc = 0.0  \n",
    "    best_model_wts = copy.deepcopy(model.state_dict()) # 정확도가 가장 높은 모델을 저장할 변수\n",
    " \n",
    "    for epoch in range(1, num_epochs + 1):\n",
    "        since = time.time()  \n",
    "        train(model, train_loader, optimizer) \n",
    "        train_loss, train_acc = evaluate(model, train_loader) \n",
    "        val_loss, val_acc = evaluate(model, val_loader)\n",
    "        \n",
    "        if val_acc > best_acc: \n",
    "            best_acc = val_acc \n",
    "            best_model_wts = copy.deepcopy(model.state_dict()) # 해당 Epoch 모델을 best_model_wts에 저장\n",
    "        \n",
    "        time_elapsed = time.time() - since \n",
    "        print('-------------- epoch {} ----------------'.format(epoch))\n",
    "        print('train Loss: {:.4f}, Accuracy: {:.2f}%'.format(train_loss, train_acc))   \n",
    "        print('val Loss: {:.4f}, Accuracy: {:.2f}%'.format(val_loss, val_acc))\n",
    "        print('Completed in {:.0f}m {:.0f}s'.format(time_elapsed // 60, time_elapsed % 60)) \n",
    "    model.load_state_dict(best_model_wts)  \n",
    "    return model\n",
    " \n",
    "\n",
    "base = train_baseline(model_base, train_loader, val_loader, optimizer, EPOCH)  # baseline 모델 학습\n",
    "torch.save(base,'baseline.pt')"
   ]
  },
  {
   "cell_type": "markdown",
   "metadata": {},
   "source": [
    "### Transfer Learning을 위한 준비"
   ]
  },
  {
   "cell_type": "code",
   "execution_count": 52,
   "metadata": {},
   "outputs": [],
   "source": [
    "data_transforms = {\n",
    "    'train': transforms.Compose([transforms.Resize([64,64]), \n",
    "        transforms.RandomHorizontalFlip(), # 이미지 무작위 좌우 반전, 파라미터 p를 입력하여 반전되는 이미지 비율 설정(기본값 0.5)\n",
    "        transforms.RandomVerticalFlip(),  # 이미지 무작위 상하 반전\n",
    "        transforms.RandomCrop(52), # 이미지의 일부를 랜덤하게 잘라내어 52*52사이즈로 변경 (이미지의 가운데 부분, 오른쪽 위 또는 아래 부분만 선택 가능), Centercrop, Fivecrop등 다양한 Crop 존재\n",
    "        transforms.ToTensor(), \n",
    "        transforms.Normalize([0.485, 0.456, 0.406], [0.229, 0.224, 0.225]) ]), # 정규화 시행 첫 번째 대괄호 -> Red,Green,Blue 채널 값에서 정규화를 적용할 평균값, 두번쨰 -> 표준편차 값\n",
    "        # 사용된 평균과 표준편차 값은 Pre-Trained-Model의 학습에 사용된 ImageNet 데이터의 값\n",
    "    \n",
    "    'val': transforms.Compose([transforms.Resize([64,64]),  \n",
    "        transforms.RandomCrop(52), transforms.ToTensor(),\n",
    "        transforms.Normalize([0.485, 0.456, 0.406], [0.229, 0.224, 0.225]) ])\n",
    "}"
   ]
  },
  {
   "cell_type": "code",
   "execution_count": 53,
   "metadata": {},
   "outputs": [],
   "source": [
    "data_dir = '../splitted' \n",
    "image_datasets = {x: ImageFolder(root=os.path.join(data_dir, x), transform=data_transforms[x]) for x in ['train', 'val']} \n",
    "dataloaders = {x: torch.utils.data.DataLoader(image_datasets[x], batch_size=BATCH_SIZE, shuffle=True, num_workers=4) for x in ['train', 'val']} # 불러온 이미지를 미니배치 단위로 분리 \n",
    "dataset_sizes = {x: len(image_datasets[x]) for x in ['train', 'val']}\n",
    "\n",
    "class_names = image_datasets['train'].classes"
   ]
  },
  {
   "cell_type": "markdown",
   "metadata": {},
   "source": [
    "### Pre-Trained Model 불러오기"
   ]
  },
  {
   "cell_type": "code",
   "execution_count": 54,
   "metadata": {},
   "outputs": [
    {
     "name": "stderr",
     "output_type": "stream",
     "text": [
      "/Users/coticoger/development/AI/myenv/lib/python3.12/site-packages/torchvision/models/_utils.py:208: UserWarning: The parameter 'pretrained' is deprecated since 0.13 and may be removed in the future, please use 'weights' instead.\n",
      "  warnings.warn(\n",
      "/Users/coticoger/development/AI/myenv/lib/python3.12/site-packages/torchvision/models/_utils.py:223: UserWarning: Arguments other than a weight enum or `None` for 'weights' are deprecated since 0.13 and may be removed in the future. The current behavior is equivalent to passing `weights=ResNet50_Weights.IMAGENET1K_V1`. You can also use `weights=ResNet50_Weights.DEFAULT` to get the most up-to-date weights.\n",
      "  warnings.warn(msg)\n"
     ]
    }
   ],
   "source": [
    "from torchvision import models\n",
    " \n",
    "resnet = models.resnet50(pretrained=True)  # ResNet50 모델을 불러오고 pretrained=True를 통해 미리 학습된 모델의 Parameter값을 그대로 가져옴/ False이면 모델만 가져오고 Parameter 값은 랜덤으로 설정\n",
    "num_ftrs = resnet.fc.in_features # 불러온 resnet50은 다른 주제를 위해 설계되어 마지막 Layer의 출력 채널 수가 33개 아님. 이를 위해 이 프로젝트 모델의 마지막 Fully Connected Layer 대신 출력 채널 수가 33개인 새로운 Layer 추가 예정\n",
    "resnet.fc = nn.Linear(num_ftrs, 33)  # 불러온 모델의 마지막 Fully Connected Layer를 새로운 Layer로 교체\n",
    "resnet = resnet.to(DEVICE)\n",
    " \n",
    "criterion = nn.CrossEntropyLoss() # 모델 학습 시 사용할 Loss함수를 지정하는 변수\n",
    "optimizer_ft = optim.Adam(filter(lambda p: p.requires_grad, resnet.parameters()), lr=0.001) # 앞에 baseline model은 모든 파라미커를 업데이트했지만, 이 모델은 일부 Layer의 파라미터만 업데이트해야함, requires_grad=True로 설정된 Layer의 파라미터에만 적용\n",
    " \n",
    "from torch.optim import lr_scheduler\n",
    "exp_lr_scheduler = lr_scheduler.StepLR(optimizer_ft, step_size=7, gamma=0.1) # StepLR 메서드는 Epoch에 따라 Learning Rate를 변경하는 역할\n",
    "# step_size = 7, gamma = 0.1로 설정하면 7 EPoch마다 0.1씩 곱해 learning rate를 감소시킨다는 의미"
   ]
  },
  {
   "cell_type": "markdown",
   "metadata": {},
   "source": [
    "### Pre-Trained Model의 일부 Layer Freeze하기"
   ]
  },
  {
   "cell_type": "code",
   "execution_count": 55,
   "metadata": {},
   "outputs": [],
   "source": [
    "ct = 0 # 해당 Layer가 몇번째인지 나타내는 변수\n",
    "\n",
    "# children : 모델의 자식 모듈을 반복 가능한 객체로 반환하는 메서드\n",
    "for child in resnet.children():  # 생성한 resnet 모델의 모든 Layer 정보를 담고 있음\n",
    "    ct += 1  \n",
    "    if ct < 6: # ResNet50에 존재하는 10개의 Layer 중에서 1번 부터 5번 Layer의 파라미터는 업데이트되지 않도록 고정하고, 6번부터 10번은 학습 과정에서 파라미터 업데이트 되도록 설정\n",
    "        for param in child.parameters(): # child.parameters() : 각 Layer의 Parameter Tensor 의미. 각 Tensor에는 requires_grad 옵션이 있고, 기본값은 True로 설정\n",
    "            param.requires_grad = False # 파라미터가 업데이트 되지 않도록 설정한다는 의미 layer 번호가 6보다 작으면 파라미터가 업데이트되지 않도록 설정"
   ]
  },
  {
   "cell_type": "markdown",
   "metadata": {},
   "source": [
    "### Transfer Learning 모델 학습과 검증을 위한 함수"
   ]
  },
  {
   "cell_type": "code",
   "execution_count": 56,
   "metadata": {},
   "outputs": [],
   "source": [
    "def train_resnet(model, criterion, optimizer, scheduler, num_epochs=25):\n",
    "\n",
    "    best_model_wts = copy.deepcopy(model.state_dict())  \n",
    "    best_acc = 0.0  \n",
    "    \n",
    "    for epoch in range(num_epochs):\n",
    "        print('-------------- epoch {} ----------------'.format(epoch+1)) \n",
    "        since = time.time()                                     \n",
    "        for phase in ['train', 'val']: \n",
    "            if phase == 'train': \n",
    "                model.train() \n",
    "            else:\n",
    "                model.eval()     \n",
    " \n",
    "            running_loss = 0.0  \n",
    "            running_corrects = 0  \n",
    " \n",
    "            \n",
    "            for inputs, labels in dataloaders[phase]: # 현재 모드에 해댱하는 Dataloader에서 데이터를 입력받음\n",
    "                inputs = inputs.to(DEVICE)  \n",
    "                labels = labels.to(DEVICE)  \n",
    "                \n",
    "                optimizer.zero_grad() \n",
    "                \n",
    "                with torch.set_grad_enabled(phase == 'train'):  # 학습 단계에서만 모델의 gradient를 업데이트, 검증 단계에서는 업데이트하지 않도록 함\n",
    "                    outputs = model(inputs)  \n",
    "                    _, preds = torch.max(outputs, 1) \n",
    "                    loss = criterion(outputs, labels)  \n",
    "    \n",
    "                    if phase == 'train':   \n",
    "                        loss.backward()\n",
    "                        optimizer.step()\n",
    " \n",
    "                running_loss += loss.item() * inputs.size(0) # inputs.size(0) : Dataloader에서 전달되는 미니 배치의 데이터 수 의미(배치사이즈)\n",
    "                running_corrects += torch.sum(preds == labels.data)  # 모델을 통해 예측한 값이 Target과 같으면 running_corrects를 1만큼 증가시키고, 그렇지 않으면 증가시키지 않음\n",
    "            if phase == 'train':  \n",
    "                scheduler.step()\n",
    " \n",
    "            epoch_loss = running_loss/dataset_sizes[phase]  \n",
    "            epoch_acc = running_corrects.float()/dataset_sizes[phase]  \n",
    " \n",
    "            print('{} Loss: {:.4f} Acc: {:.4f}'.format(phase, epoch_loss, epoch_acc)) \n",
    " \n",
    "          \n",
    "            if phase == 'val' and epoch_acc > best_acc: \n",
    "                best_acc = epoch_acc\n",
    "                best_model_wts = copy.deepcopy(model.state_dict())\n",
    " \n",
    "        time_elapsed = time.time() - since  \n",
    "        print('Completed in {:.0f}m {:.0f}s'.format(time_elapsed // 60, time_elapsed % 60))\n",
    "    print('Best val Acc: {:4f}'.format(best_acc))\n",
    " \n",
    "    model.load_state_dict(best_model_wts) \n",
    "\n",
    "    return model"
   ]
  },
  {
   "cell_type": "markdown",
   "metadata": {},
   "source": [
    "### 모델 학습 실행"
   ]
  },
  {
   "cell_type": "code",
   "execution_count": 57,
   "metadata": {},
   "outputs": [
    {
     "name": "stdout",
     "output_type": "stream",
     "text": [
      "-------------- epoch 1 ----------------\n",
      "train Loss: 0.5775 Acc: 0.8277\n",
      "val Loss: 0.3133 Acc: 0.9067\n",
      "Completed in 1m 23s\n",
      "-------------- epoch 2 ----------------\n",
      "train Loss: 0.2215 Acc: 0.9287\n",
      "val Loss: 0.2581 Acc: 0.9219\n",
      "Completed in 1m 21s\n",
      "-------------- epoch 3 ----------------\n",
      "train Loss: 0.1746 Acc: 0.9431\n",
      "val Loss: 0.2387 Acc: 0.9294\n",
      "Completed in 1m 20s\n",
      "-------------- epoch 4 ----------------\n",
      "train Loss: 0.1409 Acc: 0.9544\n",
      "val Loss: 0.1920 Acc: 0.9397\n",
      "Completed in 1m 20s\n",
      "-------------- epoch 5 ----------------\n",
      "train Loss: 0.1184 Acc: 0.9613\n",
      "val Loss: 0.1950 Acc: 0.9409\n",
      "Completed in 1m 21s\n",
      "-------------- epoch 6 ----------------\n",
      "train Loss: 0.1076 Acc: 0.9651\n",
      "val Loss: 0.1519 Acc: 0.9522\n",
      "Completed in 1m 21s\n",
      "-------------- epoch 7 ----------------\n",
      "train Loss: 0.0919 Acc: 0.9707\n",
      "val Loss: 0.1206 Acc: 0.9619\n",
      "Completed in 1m 21s\n",
      "-------------- epoch 8 ----------------\n",
      "train Loss: 0.0463 Acc: 0.9849\n",
      "val Loss: 0.0493 Acc: 0.9829\n",
      "Completed in 1m 20s\n",
      "-------------- epoch 9 ----------------\n",
      "train Loss: 0.0307 Acc: 0.9896\n",
      "val Loss: 0.0440 Acc: 0.9865\n",
      "Completed in 1m 20s\n",
      "-------------- epoch 10 ----------------\n",
      "train Loss: 0.0236 Acc: 0.9925\n",
      "val Loss: 0.0415 Acc: 0.9864\n",
      "Completed in 1m 21s\n",
      "-------------- epoch 11 ----------------\n",
      "train Loss: 0.0229 Acc: 0.9922\n",
      "val Loss: 0.0394 Acc: 0.9870\n",
      "Completed in 1m 21s\n",
      "-------------- epoch 12 ----------------\n",
      "train Loss: 0.0186 Acc: 0.9934\n",
      "val Loss: 0.0357 Acc: 0.9884\n",
      "Completed in 1m 20s\n",
      "-------------- epoch 13 ----------------\n",
      "train Loss: 0.0170 Acc: 0.9943\n",
      "val Loss: 0.0342 Acc: 0.9881\n",
      "Completed in 1m 20s\n",
      "-------------- epoch 14 ----------------\n",
      "train Loss: 0.0173 Acc: 0.9947\n",
      "val Loss: 0.0306 Acc: 0.9895\n",
      "Completed in 1m 20s\n",
      "-------------- epoch 15 ----------------\n",
      "train Loss: 0.0144 Acc: 0.9955\n",
      "val Loss: 0.0340 Acc: 0.9891\n",
      "Completed in 1m 20s\n",
      "-------------- epoch 16 ----------------\n",
      "train Loss: 0.0141 Acc: 0.9955\n",
      "val Loss: 0.0293 Acc: 0.9905\n",
      "Completed in 1m 21s\n",
      "-------------- epoch 17 ----------------\n",
      "train Loss: 0.0147 Acc: 0.9950\n",
      "val Loss: 0.0316 Acc: 0.9904\n",
      "Completed in 1m 20s\n",
      "-------------- epoch 18 ----------------\n",
      "train Loss: 0.0146 Acc: 0.9954\n",
      "val Loss: 0.0316 Acc: 0.9897\n",
      "Completed in 1m 20s\n",
      "-------------- epoch 19 ----------------\n",
      "train Loss: 0.0120 Acc: 0.9960\n",
      "val Loss: 0.0315 Acc: 0.9895\n",
      "Completed in 1m 20s\n",
      "-------------- epoch 20 ----------------\n",
      "train Loss: 0.0129 Acc: 0.9958\n",
      "val Loss: 0.0313 Acc: 0.9889\n",
      "Completed in 1m 20s\n",
      "-------------- epoch 21 ----------------\n",
      "train Loss: 0.0126 Acc: 0.9960\n",
      "val Loss: 0.0304 Acc: 0.9899\n",
      "Completed in 1m 21s\n",
      "-------------- epoch 22 ----------------\n",
      "train Loss: 0.0122 Acc: 0.9962\n",
      "val Loss: 0.0310 Acc: 0.9891\n",
      "Completed in 1m 20s\n",
      "-------------- epoch 23 ----------------\n",
      "train Loss: 0.0126 Acc: 0.9958\n",
      "val Loss: 0.0323 Acc: 0.9887\n",
      "Completed in 1m 21s\n",
      "-------------- epoch 24 ----------------\n",
      "train Loss: 0.0130 Acc: 0.9959\n",
      "val Loss: 0.0325 Acc: 0.9897\n",
      "Completed in 1m 21s\n",
      "-------------- epoch 25 ----------------\n",
      "train Loss: 0.0115 Acc: 0.9965\n",
      "val Loss: 0.0342 Acc: 0.9896\n",
      "Completed in 1m 20s\n",
      "-------------- epoch 26 ----------------\n",
      "train Loss: 0.0129 Acc: 0.9962\n",
      "val Loss: 0.0324 Acc: 0.9896\n",
      "Completed in 1m 20s\n",
      "-------------- epoch 27 ----------------\n",
      "train Loss: 0.0122 Acc: 0.9958\n",
      "val Loss: 0.0328 Acc: 0.9875\n",
      "Completed in 1m 21s\n",
      "-------------- epoch 28 ----------------\n",
      "train Loss: 0.0124 Acc: 0.9957\n",
      "val Loss: 0.0303 Acc: 0.9910\n",
      "Completed in 1m 21s\n",
      "-------------- epoch 29 ----------------\n",
      "train Loss: 0.0118 Acc: 0.9964\n",
      "val Loss: 0.0306 Acc: 0.9890\n",
      "Completed in 1m 20s\n",
      "-------------- epoch 30 ----------------\n",
      "train Loss: 0.0123 Acc: 0.9965\n",
      "val Loss: 0.0295 Acc: 0.9904\n",
      "Completed in 1m 21s\n",
      "Best val Acc: 0.990988\n"
     ]
    }
   ],
   "source": [
    "model_resnet50 = train_resnet(resnet, criterion, optimizer_ft, exp_lr_scheduler, num_epochs=EPOCH) \n",
    "\n",
    "torch.save(model_resnet50, 'resnet50.pt')"
   ]
  },
  {
   "cell_type": "markdown",
   "metadata": {},
   "source": [
    "### 베이스라인 모델 평가를 위한 전처리"
   ]
  },
  {
   "cell_type": "code",
   "execution_count": 58,
   "metadata": {},
   "outputs": [],
   "source": [
    "transform_base = transforms.Compose([transforms.Resize([64,64]),transforms.ToTensor()])\n",
    "test_base = ImageFolder(root='../splitted/test',transform=transform_base)  \n",
    "test_loader_base = torch.utils.data.DataLoader(test_base, batch_size=BATCH_SIZE, shuffle=True, num_workers=4)"
   ]
  },
  {
   "cell_type": "markdown",
   "metadata": {},
   "source": [
    "### Transfer Learning 모델 평가를 위한 전처리"
   ]
  },
  {
   "cell_type": "code",
   "execution_count": 59,
   "metadata": {},
   "outputs": [],
   "source": [
    "transform_resNet = transforms.Compose([\n",
    "        transforms.Resize([64,64]),  \n",
    "        transforms.RandomCrop(52),  \n",
    "        transforms.ToTensor(),\n",
    "        transforms.Normalize([0.485, 0.456, 0.406], [0.229, 0.224, 0.225]) \n",
    "    ])\n",
    "    \n",
    "test_resNet = ImageFolder(root='../splitted/test', transform=transform_resNet) \n",
    "test_loader_resNet = torch.utils.data.DataLoader(test_resNet, batch_size=BATCH_SIZE, shuffle=True, num_workers=4)"
   ]
  },
  {
   "cell_type": "markdown",
   "metadata": {},
   "source": [
    "### 베이스라인 모델 성능 평가하기"
   ]
  },
  {
   "cell_type": "code",
   "execution_count": 60,
   "metadata": {},
   "outputs": [
    {
     "name": "stdout",
     "output_type": "stream",
     "text": [
      "baseline test acc:   93.41594692702466\n"
     ]
    }
   ],
   "source": [
    "baseline=torch.load('baseline.pt') \n",
    "baseline.eval()  \n",
    "test_loss, test_accuracy = evaluate(baseline, test_loader_base)\n",
    "\n",
    "print('baseline test acc:  ', test_accuracy)"
   ]
  },
  {
   "cell_type": "markdown",
   "metadata": {},
   "source": [
    "### Transfer Learning 모델 성능 평가하기"
   ]
  },
  {
   "cell_type": "code",
   "execution_count": 61,
   "metadata": {},
   "outputs": [
    {
     "name": "stdout",
     "output_type": "stream",
     "text": [
      "baseline test acc:   93.41594692702466\n"
     ]
    }
   ],
   "source": [
    "baseline=torch.load('baseline.pt') \n",
    "baseline.eval()  \n",
    "test_loss, test_accuracy = evaluate(baseline, test_loader_base)\n",
    "\n",
    "print('baseline test acc:  ', test_accuracy)"
   ]
  },
  {
   "cell_type": "markdown",
   "metadata": {},
   "source": [
    "### 결과\n",
    "\n",
    "모델을 직접 구축하여 처음부터 학습시키는 것보다 많은 양의 데이터셋으로 미리 학습된 모델을 불러와 일부를 Fine-Tuning하는 것이 더 높은 예측 성능을 낸다고 볼 수 있음\n",
    "\n",
    "이는 우리가 가지고 있는 데이터의 수가 약 40,000개로 적지 않음. 베이스라인 모델도 어느 정도 좋은 성능을 보였음 하지만 Pre-Trained 모델은 약 1,400만 개의 이미지를 학습해놓은 모델이고, 이 모델에는 다양한 이미지의 Feature가 학습되어 있음. \n",
    "\n",
    "베이스라인 모델은 초기 파라미터는 랜덤으로 설정되는 반면, Pre-Trained Model의 초기 파라미터는 수백만장의 이미지를 통해 미리 학습해 놓은 모델의 파라미터이다. 따라서 Pre-Trained Model이 더 좋은 성능을 나타낼 가능성이 높음"
   ]
  }
 ],
 "metadata": {
  "kernelspec": {
   "display_name": "myenv",
   "language": "python",
   "name": "python3"
  },
  "language_info": {
   "name": "python",
   "version": "3.12.4"
  }
 },
 "nbformat": 4,
 "nbformat_minor": 2
}
